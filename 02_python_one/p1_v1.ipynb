{
  "cell_type": "code",
  "execution_count": 1,
  "metadata": {},
  "outputs": [],
  "source": [
    "print(\"Hello, world!\")"
  ]
}
