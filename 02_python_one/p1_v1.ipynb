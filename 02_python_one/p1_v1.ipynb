{
  "cells": [
    {
      "cell_type": "markdown",
      "id": "PNP7aBaAk0di",
      "metadata": {
        "id": "PNP7aBaAk0di"
      },
      "source": [
        "## Intro notebook for the Quantum Software Engineering Bootcamp\n",
        "\n"
      ]
    },
    {
      "cell_type": "code",
      "execution_count": null,
      "id": "rFvhISWOkUu9",
      "metadata": {
        "colab": {
          "base_uri": "https://localhost:8080/"
        },
        "id": "rFvhISWOkUu9",
        "outputId": "7e88380e-fd53-448f-d030-004a046b5a43"
      },
      "outputs": [
        {
          "name": "stdout",
          "output_type": "stream",
          "text": [
            "Hello, world!\n",
            "Welcome to the Quantum Software Engineering Bootcamp!\n"
          ]
        }
      ],
      "source": [
        "print(\"Hello, world!\")\n",
        "print(\"Welcome to the Quantum Software Engineering Bootcamp!!ß\")"
      ]
    },
    {
      "cell_type": "code",
      "execution_count": 2,
      "id": "z40F7Pb9kpRt",
      "metadata": {
        "colab": {
          "base_uri": "https://localhost:8080/"
        },
        "id": "z40F7Pb9kpRt",
        "outputId": "8e99360c-20b1-46c2-efdf-287658b489c3"
      },
      "outputs": [
        {
          "name": "stdout",
          "output_type": "stream",
          "text": [
            "x + y = 3\n"
          ]
        }
      ],
      "source": [
        "x = 1\n",
        "y = 2\n",
        "print(f\"x + y = {x + y}\")"
      ]
    }
  ],
  "metadata": {
    "colab": {
      "provenance": []
    },
    "kernelspec": {
      "display_name": "Python 3",
      "name": "python3"
    },
    "language_info": {
      "name": "python"
    }
  },
  "nbformat": 4,
  "nbformat_minor": 5
}
