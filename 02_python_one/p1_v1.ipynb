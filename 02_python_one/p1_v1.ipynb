{
  "cells": [
    {
      "cell_type": "markdown",
      "source": [
        "## Intro notebook for the Quantum Software Engineering Bootcamp\n",
        "\n"
      ],
      "metadata": {
        "id": "PNP7aBaAk0di"
      },
      "id": "PNP7aBaAk0di"
    },
    {
      "cell_type": "code",
      "execution_count": 1,
      "metadata": {
        "id": "rFvhISWOkUu9",
        "outputId": "7e88380e-fd53-448f-d030-004a046b5a43",
        "colab": {
          "base_uri": "https://localhost:8080/"
        }
      },
      "outputs": [
        {
          "output_type": "stream",
          "name": "stdout",
          "text": [
            "Hello, world!\n",
            "Welcome to the Quantum Software Engineering Bootcamp!\n"
          ]
        }
      ],
      "source": [
        "print(\"Hello, world!\")\n",
        "print(\"Welcome to the Quantum Software Engineering Bootcamp!\")"
      ],
      "id": "rFvhISWOkUu9"
    },
    {
      "cell_type": "code",
      "source": [
        "x = 1\n",
        "y = 2\n",
        "print(f\"x + y = {x + y}\")"
      ],
      "metadata": {
        "id": "z40F7Pb9kpRt",
        "outputId": "8e99360c-20b1-46c2-efdf-287658b489c3",
        "colab": {
          "base_uri": "https://localhost:8080/"
        }
      },
      "id": "z40F7Pb9kpRt",
      "execution_count": 2,
      "outputs": [
        {
          "output_type": "stream",
          "name": "stdout",
          "text": [
            "x + y = 3\n"
          ]
        }
      ]
    }
  ],
  "metadata": {
    "colab": {
      "provenance": []
    },
    "language_info": {
      "name": "python"
    },
    "kernelspec": {
      "name": "python3",
      "display_name": "Python 3"
    }
  },
  "nbformat": 4,
  "nbformat_minor": 5
}